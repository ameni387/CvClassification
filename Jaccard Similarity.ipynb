{
 "cells": [
  {
   "cell_type": "code",
   "execution_count": 3,
   "id": "683994e3",
   "metadata": {},
   "outputs": [
    {
     "name": "stdout",
     "output_type": "stream",
     "text": [
      "Requirement already satisfied: spacy in c:\\users\\r i b\\anaconda3\\lib\\site-packages (3.7.5)\n",
      "Requirement already satisfied: spacy-legacy<3.1.0,>=3.0.11 in c:\\users\\r i b\\anaconda3\\lib\\site-packages (from spacy) (3.0.12)\n",
      "Requirement already satisfied: spacy-loggers<2.0.0,>=1.0.0 in c:\\users\\r i b\\anaconda3\\lib\\site-packages (from spacy) (1.0.5)\n",
      "Requirement already satisfied: murmurhash<1.1.0,>=0.28.0 in c:\\users\\r i b\\anaconda3\\lib\\site-packages (from spacy) (1.0.10)\n",
      "Requirement already satisfied: cymem<2.1.0,>=2.0.2 in c:\\users\\r i b\\anaconda3\\lib\\site-packages (from spacy) (2.0.8)\n",
      "Requirement already satisfied: preshed<3.1.0,>=3.0.2 in c:\\users\\r i b\\anaconda3\\lib\\site-packages (from spacy) (3.0.9)\n",
      "Requirement already satisfied: thinc<8.3.0,>=8.2.2 in c:\\users\\r i b\\anaconda3\\lib\\site-packages (from spacy) (8.2.5)\n",
      "Requirement already satisfied: wasabi<1.2.0,>=0.9.1 in c:\\users\\r i b\\anaconda3\\lib\\site-packages (from spacy) (1.1.3)\n",
      "Requirement already satisfied: srsly<3.0.0,>=2.4.3 in c:\\users\\r i b\\anaconda3\\lib\\site-packages (from spacy) (2.4.8)\n",
      "Requirement already satisfied: catalogue<2.1.0,>=2.0.6 in c:\\users\\r i b\\anaconda3\\lib\\site-packages (from spacy) (2.0.10)\n",
      "Requirement already satisfied: weasel<0.5.0,>=0.1.0 in c:\\users\\r i b\\anaconda3\\lib\\site-packages (from spacy) (0.4.1)\n",
      "Requirement already satisfied: typer<1.0.0,>=0.3.0 in c:\\users\\r i b\\anaconda3\\lib\\site-packages (from spacy) (0.12.3)\n",
      "Requirement already satisfied: tqdm<5.0.0,>=4.38.0 in c:\\users\\r i b\\anaconda3\\lib\\site-packages (from spacy) (4.65.0)\n",
      "Requirement already satisfied: requests<3.0.0,>=2.13.0 in c:\\users\\r i b\\anaconda3\\lib\\site-packages (from spacy) (2.31.0)\n",
      "Requirement already satisfied: pydantic!=1.8,!=1.8.1,<3.0.0,>=1.7.4 in c:\\users\\r i b\\anaconda3\\lib\\site-packages (from spacy) (2.7.4)\n",
      "Requirement already satisfied: jinja2 in c:\\users\\r i b\\anaconda3\\lib\\site-packages (from spacy) (3.1.2)\n",
      "Requirement already satisfied: setuptools in c:\\users\\r i b\\anaconda3\\lib\\site-packages (from spacy) (71.1.0)\n",
      "Requirement already satisfied: packaging>=20.0 in c:\\users\\r i b\\anaconda3\\lib\\site-packages (from spacy) (23.0)\n",
      "Requirement already satisfied: langcodes<4.0.0,>=3.2.0 in c:\\users\\r i b\\anaconda3\\lib\\site-packages (from spacy) (3.4.0)\n",
      "Requirement already satisfied: numpy>=1.19.0 in c:\\users\\r i b\\anaconda3\\lib\\site-packages (from spacy) (1.24.3)\n",
      "Requirement already satisfied: language-data>=1.2 in c:\\users\\r i b\\anaconda3\\lib\\site-packages (from langcodes<4.0.0,>=3.2.0->spacy) (1.2.0)\n",
      "Requirement already satisfied: annotated-types>=0.4.0 in c:\\users\\r i b\\anaconda3\\lib\\site-packages (from pydantic!=1.8,!=1.8.1,<3.0.0,>=1.7.4->spacy) (0.7.0)\n",
      "Requirement already satisfied: pydantic-core==2.18.4 in c:\\users\\r i b\\anaconda3\\lib\\site-packages (from pydantic!=1.8,!=1.8.1,<3.0.0,>=1.7.4->spacy) (2.18.4)\n",
      "Requirement already satisfied: typing-extensions>=4.6.1 in c:\\users\\r i b\\anaconda3\\lib\\site-packages (from pydantic!=1.8,!=1.8.1,<3.0.0,>=1.7.4->spacy) (4.12.2)\n",
      "Requirement already satisfied: charset-normalizer<4,>=2 in c:\\users\\r i b\\anaconda3\\lib\\site-packages (from requests<3.0.0,>=2.13.0->spacy) (2.0.4)\n",
      "Requirement already satisfied: idna<4,>=2.5 in c:\\users\\r i b\\anaconda3\\lib\\site-packages (from requests<3.0.0,>=2.13.0->spacy) (3.4)\n",
      "Requirement already satisfied: urllib3<3,>=1.21.1 in c:\\users\\r i b\\anaconda3\\lib\\site-packages (from requests<3.0.0,>=2.13.0->spacy) (1.26.16)\n",
      "Requirement already satisfied: certifi>=2017.4.17 in c:\\users\\r i b\\anaconda3\\lib\\site-packages (from requests<3.0.0,>=2.13.0->spacy) (2023.7.22)\n",
      "Requirement already satisfied: blis<0.8.0,>=0.7.8 in c:\\users\\r i b\\anaconda3\\lib\\site-packages (from thinc<8.3.0,>=8.2.2->spacy) (0.7.11)\n",
      "Requirement already satisfied: confection<1.0.0,>=0.0.1 in c:\\users\\r i b\\anaconda3\\lib\\site-packages (from thinc<8.3.0,>=8.2.2->spacy) (0.1.5)\n",
      "Requirement already satisfied: colorama in c:\\users\\r i b\\anaconda3\\lib\\site-packages (from tqdm<5.0.0,>=4.38.0->spacy) (0.4.6)\n",
      "Requirement already satisfied: click>=8.0.0 in c:\\users\\r i b\\anaconda3\\lib\\site-packages (from typer<1.0.0,>=0.3.0->spacy) (8.0.4)\n",
      "Requirement already satisfied: shellingham>=1.3.0 in c:\\users\\r i b\\anaconda3\\lib\\site-packages (from typer<1.0.0,>=0.3.0->spacy) (1.5.4)\n",
      "Requirement already satisfied: rich>=10.11.0 in c:\\users\\r i b\\anaconda3\\lib\\site-packages (from typer<1.0.0,>=0.3.0->spacy) (13.7.1)\n",
      "Requirement already satisfied: cloudpathlib<1.0.0,>=0.7.0 in c:\\users\\r i b\\anaconda3\\lib\\site-packages (from weasel<0.5.0,>=0.1.0->spacy) (0.18.1)\n",
      "Requirement already satisfied: smart-open<8.0.0,>=5.2.1 in c:\\users\\r i b\\anaconda3\\lib\\site-packages (from weasel<0.5.0,>=0.1.0->spacy) (5.2.1)\n",
      "Requirement already satisfied: MarkupSafe>=2.0 in c:\\users\\r i b\\anaconda3\\lib\\site-packages (from jinja2->spacy) (2.1.1)\n",
      "Requirement already satisfied: marisa-trie>=0.7.7 in c:\\users\\r i b\\anaconda3\\lib\\site-packages (from language-data>=1.2->langcodes<4.0.0,>=3.2.0->spacy) (1.2.0)\n",
      "Requirement already satisfied: markdown-it-py>=2.2.0 in c:\\users\\r i b\\anaconda3\\lib\\site-packages (from rich>=10.11.0->typer<1.0.0,>=0.3.0->spacy) (2.2.0)\n",
      "Requirement already satisfied: pygments<3.0.0,>=2.13.0 in c:\\users\\r i b\\anaconda3\\lib\\site-packages (from rich>=10.11.0->typer<1.0.0,>=0.3.0->spacy) (2.15.1)\n",
      "Requirement already satisfied: mdurl~=0.1 in c:\\users\\r i b\\anaconda3\\lib\\site-packages (from markdown-it-py>=2.2.0->rich>=10.11.0->typer<1.0.0,>=0.3.0->spacy) (0.1.0)\n",
      "Note: you may need to restart the kernel to use updated packages.\n"
     ]
    }
   ],
   "source": [
    "pip install spacy"
   ]
  },
  {
   "cell_type": "code",
   "execution_count": 4,
   "id": "1180f873",
   "metadata": {},
   "outputs": [
    {
     "name": "stdout",
     "output_type": "stream",
     "text": [
      "Requirement already satisfied: neo4j in c:\\users\\r i b\\anaconda3\\lib\\site-packages (5.22.0)\n",
      "Requirement already satisfied: pytz in c:\\users\\r i b\\anaconda3\\lib\\site-packages (from neo4j) (2022.7)\n",
      "Note: you may need to restart the kernel to use updated packages.\n"
     ]
    }
   ],
   "source": [
    "pip install neo4j"
   ]
  },
  {
   "cell_type": "code",
   "execution_count": 8,
   "id": "047c5c06",
   "metadata": {},
   "outputs": [
    {
     "name": "stdout",
     "output_type": "stream",
     "text": [
      "Requirement already satisfied: pip in c:\\users\\r i b\\anaconda3\\lib\\site-packages (24.1.2)\n",
      "Requirement already satisfied: setuptools in c:\\users\\r i b\\anaconda3\\lib\\site-packages (71.1.0)\n",
      "Requirement already satisfied: wheel in c:\\users\\r i b\\anaconda3\\lib\\site-packages (0.43.0)\n",
      "Note: you may need to restart the kernel to use updated packages.\n"
     ]
    }
   ],
   "source": [
    "pip install -U pip setuptools wheel"
   ]
  },
  {
   "cell_type": "code",
   "execution_count": 5,
   "id": "fb5396e9",
   "metadata": {},
   "outputs": [
    {
     "name": "stdout",
     "output_type": "stream",
     "text": [
      "Requirement already satisfied: docx2txt in c:\\users\\r i b\\anaconda3\\lib\\site-packages (0.8)Note: you may need to restart the kernel to use updated packages.\n",
      "\n"
     ]
    }
   ],
   "source": [
    "pip install docx2txt"
   ]
  },
  {
   "cell_type": "code",
   "execution_count": 2,
   "id": "4e78255d",
   "metadata": {},
   "outputs": [],
   "source": [
    "import re\n",
    "import docx2txt\n",
    "def clean_text_from_file(file_path):\n",
    "    try:\n",
    "        # Extract text from .docx file\n",
    "        text = docx2txt.process(file_path)\n",
    "        # Define characters to remove \n",
    "        unnecessary_chars = re.compile(r'[^a-zA-Z0-9\\s.,;:’èé+#Éàâ()ôÔ&/-]')\n",
    "        # Remove unnecessary characters\n",
    "        cleaned_text = unnecessary_chars.sub('', text)\n",
    "        # Remove extra spaces and join into one paragraph\n",
    "        cleaned_text = re.sub(r'\\s+', ' ', cleaned_text).strip()\n",
    "        return cleaned_text\n",
    "    except FileNotFoundError:\n",
    "        print(f\"Error: The file '{file_path}' was not found.\")\n",
    "        return None\n",
    "    except Exception as e:\n",
    "        print(f\"Error: An error occurred while processing the file '{file_path}': {e}\")\n",
    "        return None"
   ]
  },
  {
   "cell_type": "code",
   "execution_count": 6,
   "id": "b34a81de",
   "metadata": {},
   "outputs": [
    {
     "name": "stdout",
     "output_type": "stream",
     "text": [
      "Othman Consultant Fonctionnel 3 années d’expérience Competences fonctionelles Gestion de projet Bonne capacité d’analyse Maitrise des methodes Supply Chain et IT analyse fonctionnelle, Gestion de Planning Gestion des stocks, Approvisionnement Recueil des besoins Métier coordination entre différents acteurs projets (équipe métier et la matrise d’uvre) rédaction de spécifications fonctionnelles test fonctionnel COMPÉTENCES TECHNIQUES Base de données : Langage SQL , Access Outils : JIRA , Snow , Office ( Word , Excel , Powerpoint ), SAP EXPERIENCE PROFESSIONNELLE Allianz Depuis Janvier 2021 Projet : Mission Support niveau 2 de l’espace client particulier et entreprise Allianz. Rôle : consultant fonctionnel Equipe Réalisations Analyse fonctionnelle des incidents utilisateurs remontés par le support niveau 1 Remontée des incidents techniques à la MOE Coordination avec les équipes techniques pour le traitement des anomalies détectées après identification Pilotage de la correction des anomalies Rédaction des bases de connaissance et des modes opératoires. Extraction des données de l’outil SNOW et la mise en place des indicateurs. Animation du point d’équipe hebdomadaire. Purges et Actualisation de base de données via des requtes SQL. Référent technique du périmètre espace client support niveau 2. Participation à la rédaction des process de traitement d’incidents de la V3 espace client. Elaboration du cahier des tests en collaboration avec l’équipe métier Exécution des cas de tests et préparation du rapport détaillé des défaillance en fonction de la complexité Environnement technique Wiilog Novembre 2019-Decembre 2020 Projet : Évolutions et maintenance sur une application de WMS (Warehouse Management System). Rôle : Consultant AMOA /QA Equipe : Réalisations Recette : Conception des plans de tests sous HP ALM à partir des SFD Préparation des jeux de données (SQL) exécution des plans de tests Analyse des résultats d’exécution des tests et préparation des rapports danomalie Gestion des anomalies tests de non-régression TNR Préparation du Planning des tests (recette et livraison) en coordination avec les autres membres de l’équipe Coordination avec les métiers Suivi du planning prévisionnel Support fonctionnel : Analyse fonctionnelle des incidents de production remontés par les utilisateurs Remontée des incidents techniques à la MOE Pilotage de la correction des anomalies Rédaction des modes opératoires Suivi des traitements des tickets via Jira Définition de l’expression de besoins Rédaction des spécifications fonctionnelles Participation à des réunions quotidiennes Gestion des utilisateurs / profil utilisateurs Environnement Technique : DIPLOMES & FORMATIONS 2017/2019 KEDGE BUSINESS SCHOOL Bordeaux, France : Master en science global de supply Chain 2013/2017 Al Akhawayn University- Ifrane, Maroc : Bachelor in business administration Majeure Supply Chain OPERAM - 2022 1\n"
     ]
    }
   ],
   "source": [
    "file_path = \"OPERAM - CV- OTHMAN _consultant fonctionnel_3 ans d'exp.docx\" \n",
    "cleaned_text = clean_text_from_file(file_path)\n",
    "if cleaned_text:\n",
    "    print(cleaned_text)\n",
    "else:\n",
    "    print(\"Le fichier n'a pas été nettoyé correctement.\")"
   ]
  },
  {
   "cell_type": "code",
   "execution_count": 7,
   "id": "5e8030ec",
   "metadata": {},
   "outputs": [],
   "source": [
    "import spacy\n",
    "nlp=spacy.load('output/model-best')"
   ]
  },
  {
   "cell_type": "code",
   "execution_count": 8,
   "id": "98f04607",
   "metadata": {},
   "outputs": [],
   "source": [
    "import spacy\n",
    "nlp=spacy.load('output/model-best')\n",
    "def extraire_competences(doc):\n",
    "    competences = [ent.text for ent in doc.ents if ent.label_ == 'SKILLS']  \n",
    "    return set(competences)"
   ]
  },
  {
   "cell_type": "code",
   "execution_count": 9,
   "id": "020feec4",
   "metadata": {},
   "outputs": [],
   "source": [
    "def extraire_Noms(doc):\n",
    "    Noms = [ent.text for ent in doc.ents if ent.label_ == 'NAME']  \n",
    "    return set(Noms)"
   ]
  },
  {
   "cell_type": "code",
   "execution_count": 10,
   "id": "ed1356e5",
   "metadata": {},
   "outputs": [
    {
     "name": "stdout",
     "output_type": "stream",
     "text": [
      "{'LOBNA C.'}\n",
      "{'Google Colab', 'Git', 'Docker', 'Github', 'Hadoop', 'GitLab', 'Yii2', 'Postman', 'HTML5', 'CSS3', 'Sendinblue', 'Flask', 'NLP', 'Symfony', 'Machine Learning', 'MySQL', 'UML', 'Jupyter Notebook', 'MongoDB', 'Cassandra', 'REST', 'SCRUM', 'Extensions Chrome', 'R', 'Python', 'PWA', 'NoSQL', 'Deep Learning', 'Redmine', 'JavaScript', 'Data Visualisation', 'SQLite', 'Oracle', 'PHP'}\n"
     ]
    }
   ],
   "source": [
    "file_path1 = \"C:/Users/R I B/Desktop/Nouveau dossier/Cv_DataSet/OPERAM - CV - LOBNA - ING PYTHON MACHINE LEARINING.docx\" \n",
    "doc1=nlp(clean_text_from_file(file_path1))\n",
    "#doc = nlp(\"\"\"MMO PYTHON/DJANGO 9 ans d’expérience (Python, Django, Streamlit) POINTS FORTS DU CV  Recueil des besoins, analyse et conception  Rédaction des spécifications fonctionnelles et techniques  Expert en développements Python  Développements WEB HTML CSS JavaScript  Tests unitaires et revue du code Maintenance et mise à jour du projet Formation et guide utilisateurs  Migration et importation des données  Installation et configuration des serveurs cloud Implémentation et mise en place des systèmes  Méthodologies Agile (SCRUM)  COMPÉTENCES TECHNIQUES  Langages/Framework  Python, Odoo, Django, XML, C#, . NET, C/C++, JAVA(JEE), PHP, streamlit Programmation Web \tHTML5,  CSS3, JavaScript, Bootstrap Web services\tSOAP, REST   Serveurs Cloud\tOVH, GCP (Google cloud platform) Bases de données PostgreSQL, MySQL, Oracle Environnements de développement\tEclipse, Pycharm, Visual Studio Versionning, Intégration continue GIT, Jenkins Méthodologie Cycle en cascade, Agile (SCRUM) Conception StarUML, PowerAMC Systèmes Windows, Ubuntu, Unix EXPERIENCE PROFESSIONNELLE Banque de France Depuis janvier 2022 Dévéloppeur senior Python (Réfèrent technique) Projet : LUCIA : Développement d’une application qui permet de lutter contre le blanchiment d’argent. Conversion la conception fonctionnelle en conception technique Découpages des tâches  Mettre en place une architecture microservices Développement des scripts Python qui permet de distinguer les anomalies  Génération du notebook d’ingestions avec Jupyter Intégration des résultats sur streamlit Déploiement dans l’environnement de test, integration, preprod puis en prod. Versioning avec Github Gérer les changes requests  Équipe : Un chef de projet, 3 développeurs, 1 testeur, 1 analyste. Technologie : Python, Streamlit, Github , Jenkins, Jupyter, sqlite, S3(aws), API REST TOTAL\tDe juillet 2019 à décembre 2021  Dévéloppeur senior Python (Réfèrent technique) Projets : Gestion des VMs :  Project 1 : Développement d’un site web qui permet la Connexion et la création des VMs avec Azure (Django). Conversion la conception fonctionnelle en conception technique Découpages des tâches  Mettre en place une architecture microservices Développement des tâches avec Django Connection avec Azure Cloud via API REST Déploiement dans l’environnement de test, integration, preprod puis en prod Versioning avec Azure Devops Gérer les changes requests  Équipe : Un chef de projet, 4 développeurs, 1 testeur. Technologie : Python, Django, Azure devops, Docker, Terraforme, Ansible, APIREST, Azure Cloud Project 2 : Développement d’un site web (Django) qui permet de gérer l’optimisation des VMs. Conversion la conception fonctionnelle en conception technique Découpages des tâches  Développement des tâches avec django Déploiement dans l’environnement de test, integration, preprod puis en prod Versioning avec Azure devops Gérer les changes requests  Équipe : Un chef de projet, 3 développeurs, 1 testeur. Technologie : Python, Django, Azure devops, Docker. NOKIA De septembre 2018 à juin 2019 Développeur Python Projets : Gestion des alarmes : Développement et automatisation des différentes alarmes pour assurer le bon résultat aux routeurs, les adapter à des modèles pour prédéfinir les commandes demandées par la machine. Préparation des scripts des modèles liés au Méga alarmes Développement des scripts structurées pour les petites alarmes Découpages des logs liés à chaque scénario d’une alarme Développement des scripts pour la Corrections des logs et des outputs  Déploiement dans l’environnement de test, integration, preprod puis en prod Versioning avec Github  Gérer les changes request Équipe : Un chef de projet, 8 développeurs, 2 analystes, . Technologie : Python, Github, Docker, zepplin, jupyter, cloudberry, mobaxterm SLNEE\tDe mars 2016 à août 2018 Développeur Python Projets : Gestion des Formations : Développement d’un site web pour un centre de formations qui permet de gérer et centralisé tous les modules à travers un ERP Interventions dans la partie backend Développement des webservices Développement d’une API pour lister les formateurs Connecté Django avec ERP Odoo Utilisation de Facebook et Gmail API Équipe : Un chef de projet, 3 développeurs, 1 analystes, 1 testeur Technologie : Python, Django, Odoo PostgreSQL, PGAdmin, Github, JavaScript, HTML5 Projets : Gestion des transactions : Développement et personnalisation des différents modules pour améliorer et faciliter la démarche des transactions. Organisation des transactions  Définir les droits d’accès selon le niveau de l’employeur Création des workflows automatiques pour diriger la bonne démarche des transactions Intégrations de modules d’archive (uploade / scan) Intégrations de modules de RH  Gérer la confidentialité des documents lié aux transactions Intégration de système mailing Visualiser l’avancement avec un Dashboard  Utilisation de l’api XML-RPC Développement d’un module (API) pour le reporting Développement d’un module (API) pour les notifications Utilisation de Facebook et Gmail API Équipe : Un chef de projet, 2 développeurs, testeur, analyste. Technologie : Python, Xml, Odoo, PostgreSQL, PGAdmin, Github, JavaScript, HTML5, CSS3, Bootstrap  Projets : Gestion des documents d’archive : Gestion et organisation des différents documents dans une entreprise en considérant leurs types (pdf, word. . . )  Ainsi que l'automatisation de stockage selon des critères prédéfinis. Organisations de sauvegarde des différents documents. Gérer les documents via un code à barre Manipulation et modification sur les documents de type PDF Utilisation de l’api XML-RPC Équipe : Un chef de projet, 2 développeurs, testeur, analyste. Technologie : Python, Xml, Odoo, PostgreSQL, PGAdmin, Github, JavaScript, HTML5, CSS3, Bootstrap  MT-CONSULTING\t   De décembre 2014 à février 2016 Développeur Python Projets : Gestion des Bâtiments : Développement et personnalisation des différents modules pour la partie back-end (de vente, produits, CRM . . . ) ainsi qu’au développement d’un site Web pour la partie frontend. Gérer les bâtiments selon le type de traitements Gérer les images des produits (bâtiments, appartements, maisons) Développement de site web  Gérer l’achat ou la réservation des produits  Équipe : un chef de projet, 1 développeur. Technologie : Python, Xml, Odoo, PostgreSQL, PGAdmin, Github, JavaScript, HTML5, CSS3, Bootstrap  Projets :  Gestion de Cabinet d’audit de Comptabilité : Développement et la personnalisation des différents modules (CRM, Vente, Achat, produit, RH, Comptabilité, Projet . . . ) Gérer les bons de commandes, les contrats, les missions … Gérer les auditeurs (disponibilité, validité de leur certification) Gérer les notifications pour alerter l’employeur et l’auditeur (notif /mail/sms) Suivi la planification des tâches Gérer la facturation (total /partial) Équipe : Un chef de projet, 1 développeur. Technologie : Python, Xml, Odoo, PostgreSQL, PGAdmin, Github, JavaScript, HTML5, CSS3, Bootstrap  Projets :  Gestion de Cabinet d’audit de qualité : Développement et la personnalisation des différents modules (CRM, Vente, Achat, produit, RH, Projet) Gérer les bons de commandes, les contrats, les missions … Gérer les auditeurs (disponibilité, validité de leur certification) Gérer les notifications pour alerter l’employeur et l’auditeur (notif /mail/sms) Découpage des missions selon des phases et des tâches Créations et gestions des évènements des formations Suivi la planification des tâches Gérer la facturation (total /partial) Équipe : un chef de projet, 1 développeur. Technologie : Python, Xml, Odoo, PostgreSQL, PGAdmin, Github, JavaScript, HTML5, CSS3, Bootstrap  DIPLOMES & FORMATIONS  2015. Ingénieur en Informatique 2012.  Licence en Science d’informatique. LANGUES   Anglais : Opérationnel avancé\"\"\")\n",
    "competences1 = extraire_competences(doc1)\n",
    "NomConsultant1 = extraire_Noms(doc1)\n",
    "print(set(NomConsultant1))\n",
    "print(competences1)"
   ]
  },
  {
   "cell_type": "code",
   "execution_count": 12,
   "id": "e078a3ec",
   "metadata": {},
   "outputs": [
    {
     "name": "stdout",
     "output_type": "stream",
     "text": [
      "{'gradle', 'OpenAPI', 'Trello', 'SQL', 'Spring Boot', 'Angular', 'PostgreSQL', 'kanban', 'Hibernate', 'Bootstrap', 'UML', 'Spring Data', 'Java', 'Junit', 'JavaScript', 'TypeScript', 'Scrum', 'git', 'Jira', 'Mockito', 'Spring Batch', 'jpa'}\n",
      "{'IMEN'}\n"
     ]
    }
   ],
   "source": [
    "file_path2 = \"C:/Users/R I B/Desktop/Nouveau dossier/Cv_DataSet/OPERAM - CV - IMEN - IDE FULLSTACK JAVA.docx\" \n",
    "doc2=nlp(clean_text_from_file(file_path2))\n",
    "competences2 = extraire_competences(doc2)\n",
    "NomConsultant2 = extraire_Noms(doc2)\n",
    "print(competences2)\n",
    "print(NomConsultant2)"
   ]
  },
  {
   "cell_type": "code",
   "execution_count": 22,
   "id": "84ccb908",
   "metadata": {},
   "outputs": [],
   "source": [
    "def calculer_jaccard(list1, list2):\n",
    "    #Pour travailler avec les majuscules et les minuscule\n",
    "    set1 = set(map(str.lower, list1))\n",
    "    set2 = set(map(str.lower, list2))\n",
    "    \n",
    "    intersection = set1.intersection(set2)\n",
    "    union = set1.union(set2)\n",
    "\n",
    "    jaccard_similarity = len(intersection) / len(union)\n",
    "    \n",
    "    return round(jaccard_similarity, 3)"
   ]
  },
  {
   "cell_type": "code",
   "execution_count": 23,
   "id": "c6fd36c8",
   "metadata": {},
   "outputs": [
    {
     "name": "stdout",
     "output_type": "stream",
     "text": [
      "0.275\n"
     ]
    }
   ],
   "source": [
    "similarite = calculer_jaccard(competences1, competences2)\n",
    "print(similarite)"
   ]
  },
  {
   "cell_type": "code",
   "execution_count": 24,
   "id": "a2f79803",
   "metadata": {},
   "outputs": [],
   "source": [
    "def save_similarity(tx, nom1, nom2, similarity):\n",
    "    similarity_label = f\"SIMILARITY_{round(similarity, 3)}\"\n",
    "    query = \"\"\"\n",
    "    MERGE (a:Consultant {name: $nom1})\n",
    "    MERGE (b:Consultant {name: $nom2})\n",
    "   MERGE (a)-[r:`\"\"\" + similarity_label + \"\"\"`]->(b)\n",
    "    SET r.score = $similarity\n",
    "    \"\"\"\n",
    "    tx.run(query, nom1=nom1, nom2=nom2, similarity=similarity)"
   ]
  },
  {
   "cell_type": "code",
   "execution_count": 33,
   "id": "9788576f",
   "metadata": {},
   "outputs": [],
   "source": [
    "def save_similarity(tx, nom1, nom2, similarity, skills1, skills2):\n",
    "    similarity_label = f\"SIMILARITY_{round(similarity, 3)}\"\n",
    "    query = \"\"\"\n",
    "    MERGE (a:Consultant {name: $nom1})\n",
    "    SET a.skills = $skills1\n",
    "    MERGE (b:Consultant {name: $nom2})\n",
    "    SET b.skills = $skills2\n",
    "    MERGE (a)-[r:`\"\"\" + similarity_label + \"\"\"`]->(b)\n",
    "    SET r.score = $similarity\n",
    "    \"\"\"\n",
    "    tx.run(query, nom1=nom1, nom2=nom2, similarity=similarity, skills1=list(skills1), skills2=list(skills2))"
   ]
  },
  {
   "cell_type": "code",
   "execution_count": 34,
   "id": "d656bdec",
   "metadata": {},
   "outputs": [],
   "source": [
    "import os\n",
    "def comparer_tous_les_cv(dossier, uri, username, password):\n",
    "    fichiers = [f for f in os.listdir(dossier) if f.endswith('.docx')]\n",
    "    #driver \n",
    "    driver = GraphDatabase.driver(uri, auth=(username, password))\n",
    "    \n",
    "    #with open(resultat_fichier, 'w', encoding='utf-8') as f_out:\n",
    "    with driver.session() as session:\n",
    "        for i in range(len(fichiers)):\n",
    "            for j in range(i + 1, len(fichiers)):\n",
    "                fichier1 = fichiers[i]\n",
    "                fichier2 = fichiers[j]\n",
    "                #load the file\n",
    "                chemin1 = os.path.join(dossier, fichier1)\n",
    "                chemin2 = os.path.join(dossier, fichier2)\n",
    "                #clean text\n",
    "                doc1=nlp(clean_text_from_file(chemin1))\n",
    "                doc2=nlp(clean_text_from_file(chemin2))\n",
    "                competences1 = extraire_competences(nlp(doc1))\n",
    "                competences2 = extraire_competences(nlp(doc2))\n",
    "                noms1 = list(extraire_Noms(nlp(doc1)))\n",
    "                noms2 = list(extraire_Noms(nlp(doc2)))\n",
    "                \n",
    "                if not noms1 or not noms2:\n",
    "                    continue\n",
    "                \n",
    "                NomConsultant1 = noms1[0]\n",
    "                NomConsultant2 = noms2[0]\n",
    "                #test de similarite\n",
    "                similarite = calculer_jaccard(competences1, competences2)\n",
    "                \n",
    "                # Enregistrement du résultat dans le fichier de sortie\n",
    "                #ligne_resultat = f\"Similarité de Jaccard entre : '{NomConsultant1}' et '{NomConsultant2}' : {similarite:}\\n\"\n",
    "                #f_out.write(ligne_resultat)\n",
    "                \n",
    "                # Save the result in the Neo4j database\n",
    "                session.execute_write(\n",
    "                    save_similarity, NomConsultant1, NomConsultant2, similarite, competences1, competences2\n",
    "                )\n",
    "\n"
   ]
  },
  {
   "cell_type": "code",
   "execution_count": 35,
   "id": "0bb20651",
   "metadata": {},
   "outputs": [],
   "source": [
    "from neo4j import GraphDatabase\n",
    "\n",
    "uri = \"bolt://localhost:7687\"\n",
    "username = \"neo4j\"\n",
    "password = \"12345678\"\n",
    "\n",
    "\n",
    "dossier = 'Cv_DataSet'\n",
    "#resultat_fichier = 'res.txt'\n",
    "\n",
    "# Exécutez la comparaison\n",
    "comparer_tous_les_cv(dossier, uri, username, password)"
   ]
  }
 ],
 "metadata": {
  "kernelspec": {
   "display_name": "Python 3 (ipykernel)",
   "language": "python",
   "name": "python3"
  },
  "language_info": {
   "codemirror_mode": {
    "name": "ipython",
    "version": 3
   },
   "file_extension": ".py",
   "mimetype": "text/x-python",
   "name": "python",
   "nbconvert_exporter": "python",
   "pygments_lexer": "ipython3",
   "version": "3.11.4"
  }
 },
 "nbformat": 4,
 "nbformat_minor": 5
}
